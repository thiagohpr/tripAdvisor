{
 "cells": [
  {
   "cell_type": "code",
   "execution_count": 2,
   "metadata": {},
   "outputs": [],
   "source": [
    "import os\n",
    "import requests\n",
    "import bs4\n",
    "from bs4 import BeautifulSoup\n",
    "import sys\n",
    "import pandas as pd\n",
    "import time\n",
    "import matplotlib.pyplot as plt\n",
    "import seaborn as sb\n",
    "import numpy as np"
   ]
  },
  {
   "cell_type": "code",
   "execution_count": 3,
   "metadata": {},
   "outputs": [
    {
     "name": "stdout",
     "output_type": "stream",
     "text": [
      "4.9.3\n"
     ]
    }
   ],
   "source": [
    "print(bs4.__version__)"
   ]
  },
  {
   "cell_type": "code",
   "execution_count": 8,
   "metadata": {},
   "outputs": [],
   "source": [
    "url = 'https://www.tripadvisor.com.br/Restaurants-g303631-Sao_Paulo_State_of_Sao_Paulo.html'\n",
    "headers = ({'User-Agent':\n",
    "            'Mozilla/5.0 (Windows NT 6.1) AppleWebKit/537.36 (KHTML, like Gecko) Chrome/41.0.2228.0 Safari/537.36'})\n",
    "resposta=requests.get(url=url,headers=headers)\n",
    "\n",
    "resposta.encoding='utf-8'"
   ]
  },
  {
   "cell_type": "code",
   "execution_count": 10,
   "metadata": {},
   "outputs": [
    {
     "name": "stdout",
     "output_type": "stream",
     "text": [
      "Código de status da resposta: 200\n"
     ]
    }
   ],
   "source": [
    "print('Código de status da resposta: {}'.format(resposta.status_code))"
   ]
  },
  {
   "cell_type": "code",
   "execution_count": null,
   "metadata": {},
   "outputs": [],
   "source": []
  },
  {
   "cell_type": "code",
   "execution_count": 26,
   "metadata": {},
   "outputs": [],
   "source": [
    "soup=BeautifulSoup(resposta.text,'html.parser')"
   ]
  },
  {
   "cell_type": "code",
   "execution_count": 30,
   "metadata": {},
   "outputs": [],
   "source": [
    "tag_restaurantes=soup.find('div',class_=\"_1kXteagE\")"
   ]
  },
  {
   "cell_type": "code",
   "execution_count": null,
   "metadata": {},
   "outputs": [],
   "source": []
  },
  {
   "cell_type": "code",
   "execution_count": null,
   "metadata": {},
   "outputs": [],
   "source": []
  },
  {
   "cell_type": "code",
   "execution_count": 44,
   "metadata": {},
   "outputs": [],
   "source": [
    "lista_restaurantes=tag_restaurantes.find_all('div',class_=\"_1llCuDZj\")"
   ]
  },
  {
   "cell_type": "code",
   "execution_count": 46,
   "metadata": {},
   "outputs": [
    {
     "data": {
      "text/plain": [
       "<div class=\"_1llCuDZj\" data-test=\"SL_list_item\"><span><div><div class=\"_1kNOY9zw\"><div class=\"_2jF2URLh\"><span><a class=\"_2uEVo25r _3tdrXOp7\" href=\"/Restaurant_Review-g303631-d6557384-Reviews-Bacalhau_Vinho_e_Cia_Barra_Funda-Sao_Paulo_State_of_Sao_Paulo.html\" target=\"_blank\"><div class=\"_2PhdrMP3\"></div><div class=\"_2KPNYP9B\" data-clicksource=\"Photo\"></div></a></span><div><div class=\"_2QJ7e_cW\"><div class=\"_15aaPtHM _50cmFIkv D1m_VFgO _2a-PzfE-\"><span class=\"_1YkiZl2_ _2geKhlYH\"><span class=\"_1tvInqmQ _1T_s6QZp\"><svg class=\"_3nS1tofR iG08Yf8B\" height=\"1em\" viewbox=\"0 0 24 24\" width=\"1em\"><path d=\"M12 2C6.487 2 2 6.487 2 12c0 5.515 4.487 10 10 10 5.515 0 10-4.485 10-10 0-5.513-4.485-10-10-10zm4.688 10.911c-.975 1.188-4.687 4.434-4.687 4.434S8.258 14.1 7.29 12.903c-1.14-1.411-1.12-3.241.049-4.351.611-.58 1.42-.898 2.279-.898s1.668.318 2.279.898l.096.092.09-.087a3.296 3.296 0 012.278-.897c.86 0 1.669.318 2.277.897 1.201 1.139 1.219 2.929.05 4.354z\"></path></svg></span><span class=\"_1tvInqmQ xIyKWMUr\"><svg class=\"_3nS1tofR iG08Yf8B\" height=\"1em\" viewbox=\"0 0 24 24\" width=\"1em\"><path d=\"M14.361 8.768c-.574 0-1.111.211-1.516.594l-.854.812-.861-.819c-.401-.382-.939-.592-1.513-.592s-1.111.21-1.514.593c-.876.832-.589 2.059.048 2.847.726.896 2.961 2.89 3.845 3.667.878-.779 3.098-2.771 3.831-3.665.662-.808.936-2 .047-2.844a2.182 2.182 0 00-1.513-.593z\"></path><path d=\"M12 2C6.486 2 2 6.486 2 12s4.486 10 10 10 10-4.486 10-10S17.514 2 12 2zm4.688 10.911c-.975 1.188-4.687 4.435-4.687 4.435s-3.743-3.247-4.711-4.442c-1.141-1.411-1.12-3.241.049-4.351.61-.58 1.419-.898 2.279-.898s1.668.319 2.278.898l.096.091.09-.086a3.291 3.291 0 012.278-.897c.86 0 1.668.317 2.279.897 1.2 1.138 1.218 2.927.049 4.353z\"></path></svg></span></span></div></div></div></div><div class=\"_2Q7zqOgW\"><div class=\"_2kbTRHSI\"><div class=\"_1j22fice\"><div><div class=\"_2IkR4tZQ _2mEHwikS\"><span class=\"DrjyGw-P _26S7gyB4 _1dimhEoy\">Patrocinado por:</span></div></div></div><div class=\"wQjYiB7z\"><span><a class=\"_15_ydu6b\" href=\"/Restaurant_Review-g303631-d6557384-Reviews-Bacalhau_Vinho_e_Cia_Barra_Funda-Sao_Paulo_State_of_Sao_Paulo.html\" target=\"_blank\">Bacalhau Vinho e Cia Barra Funda</a></span></div></div><div class=\"_2rmp5aUK\"><div><div class=\"MIajtJFg _1cBs8huC\"><span class=\"_1uEmzgPt EHA742uW\"><span class=\"_1p0FLy4t\"><span><a class=\"_2uEVo25r\" href=\"/Restaurant_Review-g303631-d6557384-Reviews-Bacalhau_Vinho_e_Cia_Barra_Funda-Sao_Paulo_State_of_Sao_Paulo.html#REVIEWS\" target=\"_blank\"><span class=\"_141TBKA-\"><svg aria-label=\"4,5 de 5 círculos\" class=\"zWXXYhVR\" height=\"16\" title=\"4,5 de 5 círculos\" viewbox=\"0 0 88 16\" width=\"88\"><path d=\"M 12 0C5.388 0 0 5.388 0 12s5.388 12 12 12 12-5.38 12-12c0-6.612-5.38-12-12-12z\" transform=\"scale(0.6666666666666666)\"></path><path d=\"M 12 0C5.388 0 0 5.388 0 12s5.388 12 12 12 12-5.38 12-12c0-6.612-5.38-12-12-12z\" transform=\"translate(18 0) scale(0.6666666666666666)\"></path><path d=\"M 12 0C5.388 0 0 5.388 0 12s5.388 12 12 12 12-5.38 12-12c0-6.612-5.38-12-12-12z\" transform=\"translate(36 0) scale(0.6666666666666666)\"></path><path d=\"M 12 0C5.388 0 0 5.388 0 12s5.388 12 12 12 12-5.38 12-12c0-6.612-5.38-12-12-12z\" transform=\"translate(54 0) scale(0.6666666666666666)\"></path><path d=\"M 12 0C5.389 0 0 5.389 0 12c0 6.62 5.389 12 12 12 6.62 0 12-5.379 12-12S18.621 0 12 0zm0 2a9.984 9.984 0 0110 10 9.976 9.976 0 01-10 10z\" transform=\"translate(72 0) scale(0.6666666666666666)\"></path></svg></span><span class=\"w726Ki5B\">283<!-- --> avaliações</span></a></span></span></span><span class=\"EHA742uW _16JkOAhd\"><span class=\"_1p0FLy4t\">Fechado agora</span></span></div><div class=\"MIajtJFg _1cBs8huC _3d9EnJpt\"><span class=\"EHA742uW\"><span class=\"_1p0FLy4t\">Portuguesa, Wine Bar</span></span><span class=\"EHA742uW\"><span class=\"_1p0FLy4t\">$$ - $$$</span></span><span class=\"_3iSfzjbL\"><span><span class=\"MUNBf8J0 _2npzmCBq\"><span class=\"jxNFpwcl\"><svg class=\"_3nS1tofR iG08Yf8B\" height=\"1em\" viewbox=\"0 0 24 24\" width=\"1em\"><path d=\"M19.5 2h-15c-.3 0-.5.2-.5.5v19c0 .3.2.5.5.5h15c.3 0 .5-.2.5-.5v-19c0-.3-.2-.5-.5-.5zM12 10.2V12c0 .2-.2.4-.4.4h-1.4v5.3c0 .2-.2.399-.4.399h-.6c-.2.001-.4-.199-.4-.399v-5.3H7.4c-.2 0-.4-.2-.4-.4V6.4c0-.2.2-.4.4-.4h.5c.2 0 .4.2.4.4v3.9H8.9V6.4c0-.2.2-.4.4-.4h.5c.2 0 .4.2.4.4v3.9h.6V6.4c0-.2.2-.4.4-.4h.5c.2 0 .3.2.3.4v3.8zm5 7.4c0 .2-.2.4-.4.4h-.7c-.2 0-.4-.2-.4-.4v-5.3h-1.1c-.2 0-.4-.2-.4-.4V7.4v-.1c0-.7.7-1.3 1.5-1.3s1.5.6 1.5 1.4v10.2z\"></path></svg></span>Cardápio</span></span></span><span></span></div></div></div><div class=\"_2MLlqQGR\"></div><div class=\"_3bvktyA3\"><div class=\"_3hu2oQ7V _26lf-Ya3\"><span class=\"iXPDyayE\"><svg class=\"_3nS1tofR iG08Yf8B\" height=\"1em\" viewbox=\"0 0 24 24\" width=\"1em\"><path d=\"M2 11h5l-3 5h4l3-5V2H2zM13 2v9h5l-3 5h4l3-5V2z\"></path></svg></span><span><a class=\"_2uEVo25r _3mPt7dFq\" href=\"/ShowUserReviews-g303631-d6557384-r783550420-Bacalhau_Vinho_e_Cia_Barra_Funda-Sao_Paulo_State_of_Sao_Paulo.html\" target=\"_blank\"><span class=\"_1OfeygW_\">“Bacalhau mais que perfeito...”</span></a></span></div><div class=\"_3hu2oQ7V n-kovNea\"><span class=\"iXPDyayE\"><svg class=\"_3nS1tofR iG08Yf8B\" height=\"1em\" viewbox=\"0 0 24 24\" width=\"1em\"><path d=\"M2 11h5l-3 5h4l3-5V2H2zM13 2v9h5l-3 5h4l3-5V2z\"></path></svg></span><span><a class=\"_2uEVo25r _3mPt7dFq\" href=\"/ShowUserReviews-g303631-d6557384-r782259139-Bacalhau_Vinho_e_Cia_Barra_Funda-Sao_Paulo_State_of_Sao_Paulo.html\" target=\"_blank\"><span class=\"_1OfeygW_\">“ÓTIMO BACALHAU /CAMARÃO / POLVO.”</span></a></span></div></div><div class=\"_37CxYadq\"></div><div class=\"Dug7cOwy\"><div class=\"_2lOaDlpn\"><a href=\"/Restaurant_Review-g303631-d6557384-Reviews-Bacalhau_Vinho_e_Cia_Barra_Funda-Sao_Paulo_State_of_Sao_Paulo.html\" target=\"_blank\"><span><button class=\"_3L3LNeQW _2_0uiZjW _1ZikuLgb _1C95-Ec1\" type=\"button\">Reservar</button></span></a></div></div></div></div><div></div></div></span></div>"
      ]
     },
     "execution_count": 46,
     "metadata": {},
     "output_type": "execute_result"
    }
   ],
   "source": [
    "lista_restaurantes[0]"
   ]
  },
  {
   "cell_type": "markdown",
   "metadata": {},
   "source": [
    "Para cada restaurante:\n",
    "\n",
    "    -Nome \n",
    "    \n",
    "    -\"Estrelas\"(0 a 5)\n",
    "    \n",
    "    -Avaliações\n",
    "    \n",
    "    -Cozinha (steakhouse,italiano,frutos do mar,...)\n",
    "    \n",
    "    -Preço \n",
    "    \n",
    "    -Há medidas de segurança? (div class=\"_1ULcQ4O5 _2TXtEj3w\")\n",
    "    \n",
    "    -Review\n",
    "    "
   ]
  },
  {
   "cell_type": "code",
   "execution_count": null,
   "metadata": {},
   "outputs": [],
   "source": [
    "for i in range (len(lista_restaurantes)):\n",
    "    "
   ]
  }
 ],
 "metadata": {
  "kernelspec": {
   "display_name": "Python 3",
   "language": "python",
   "name": "python3"
  },
  "language_info": {
   "codemirror_mode": {
    "name": "ipython",
    "version": 3
   },
   "file_extension": ".py",
   "mimetype": "text/x-python",
   "name": "python",
   "nbconvert_exporter": "python",
   "pygments_lexer": "ipython3",
   "version": "3.7.4"
  }
 },
 "nbformat": 4,
 "nbformat_minor": 2
}
